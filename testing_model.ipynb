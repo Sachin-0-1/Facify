{
 "cells": [
  {
   "cell_type": "code",
   "execution_count": 1,
   "metadata": {},
   "outputs": [],
   "source": [
    "from tensorflow import keras\n",
    "import tensorflow as tf\n",
    "import numpy as np\n",
    "import pandas as pd"
   ]
  },
  {
   "cell_type": "code",
   "execution_count": 5,
   "metadata": {},
   "outputs": [],
   "source": [
    "mod=keras.models.load_model('dataset/model1.h5')"
   ]
  },
  {
   "cell_type": "code",
   "execution_count": 68,
   "metadata": {},
   "outputs": [],
   "source": [
    "import matplotlib.pyplot as plt\n",
    "from PIL import Image\n",
    "img = Image.open('dataset/x.jpeg').convert('L')\n",
    "a = np.asarray(img)"
   ]
  },
  {
   "cell_type": "code",
   "execution_count": 69,
   "metadata": {},
   "outputs": [],
   "source": [
    "train_data=pd.read_csv('dataset/train.csv')"
   ]
  },
  {
   "cell_type": "code",
   "execution_count": 3,
   "metadata": {},
   "outputs": [],
   "source": [
    "def pixels_to_array(pixels):\n",
    "    array = np.array(pixels.split(),'float64')\n",
    "    return array\n",
    "\n",
    "def image_reshape(data):\n",
    "    image = np.reshape(data['pixels'].to_list(),(data.shape[0],48,48))\n",
    "    return image"
   ]
  },
  {
   "cell_type": "code",
   "execution_count": 71,
   "metadata": {},
   "outputs": [],
   "source": [
    "train_data['pixels'] = train_data['pixels'].apply(pixels_to_array)\n",
    "train_data['pixels']\n",
    "X = image_reshape(train_data)\n",
    "y = train_data['emotion']"
   ]
  },
  {
   "cell_type": "code",
   "execution_count": 1,
   "metadata": {},
   "outputs": [
    {
     "ename": "NameError",
     "evalue": "name 'plt' is not defined",
     "output_type": "error",
     "traceback": [
      "\u001b[1;31m---------------------------------------------------------------------------\u001b[0m",
      "\u001b[1;31mNameError\u001b[0m                                 Traceback (most recent call last)",
      "\u001b[1;32m<ipython-input-1-ba0a981d4962>\u001b[0m in \u001b[0;36m<module>\u001b[1;34m\u001b[0m\n\u001b[1;32m----> 1\u001b[1;33m \u001b[0mplt\u001b[0m\u001b[1;33m.\u001b[0m\u001b[0mimshow\u001b[0m\u001b[1;33m(\u001b[0m\u001b[0mX\u001b[0m\u001b[1;33m[\u001b[0m\u001b[1;36m12\u001b[0m\u001b[1;33m]\u001b[0m\u001b[1;33m)\u001b[0m\u001b[1;33m\u001b[0m\u001b[1;33m\u001b[0m\u001b[0m\n\u001b[0m\u001b[0;32m      2\u001b[0m \u001b[0mp\u001b[0m\u001b[1;33m=\u001b[0m\u001b[0mX\u001b[0m\u001b[1;33m[\u001b[0m\u001b[1;36m12\u001b[0m\u001b[1;33m]\u001b[0m\u001b[1;33m.\u001b[0m\u001b[0mreshape\u001b[0m\u001b[1;33m(\u001b[0m\u001b[1;36m48\u001b[0m\u001b[1;33m,\u001b[0m\u001b[1;36m48\u001b[0m\u001b[1;33m,\u001b[0m\u001b[1;36m1\u001b[0m\u001b[1;33m)\u001b[0m\u001b[1;33m\u001b[0m\u001b[1;33m\u001b[0m\u001b[0m\n\u001b[0;32m      3\u001b[0m \u001b[0mp\u001b[0m\u001b[1;33m.\u001b[0m\u001b[0mshape\u001b[0m\u001b[1;33m\u001b[0m\u001b[1;33m\u001b[0m\u001b[0m\n",
      "\u001b[1;31mNameError\u001b[0m: name 'plt' is not defined"
     ]
    }
   ],
   "source": [
    "plt.imshow(X[12])\n",
    "p=X[12].reshape(48,48,1)\n",
    "p.shape"
   ]
  },
  {
   "cell_type": "code",
   "execution_count": null,
   "metadata": {
    "scrolled": true
   },
   "outputs": [],
   "source": [
    "val=mod.predict(np.array(p))"
   ]
  },
  {
   "cell_type": "code",
   "execution_count": 37,
   "metadata": {},
   "outputs": [],
   "source": [
    "import cv2\n",
    "im=cv2.imread('dataset/angr.PNG',0)\n",
    "im1=cv2.imread('dataset/angr.PNG')"
   ]
  },
  {
   "cell_type": "code",
   "execution_count": 38,
   "metadata": {},
   "outputs": [
    {
     "data": {
      "text/plain": [
       "((347, 334), (347, 334, 3))"
      ]
     },
     "execution_count": 38,
     "metadata": {},
     "output_type": "execute_result"
    }
   ],
   "source": [
    "im.shape,im1.shape"
   ]
  },
  {
   "cell_type": "code",
   "execution_count": 39,
   "metadata": {},
   "outputs": [
    {
     "data": {
      "text/plain": [
       "((334,), (334, 3))"
      ]
     },
     "execution_count": 39,
     "metadata": {},
     "output_type": "execute_result"
    }
   ],
   "source": [
    "im[0].shape,im1[0].shape"
   ]
  },
  {
   "cell_type": "code",
   "execution_count": 9,
   "metadata": {},
   "outputs": [],
   "source": [
    "emotions = ['Angry','Disgust','Fear','Happy','Sad','Surprise','Neutral']"
   ]
  },
  {
   "cell_type": "code",
   "execution_count": 41,
   "metadata": {
    "scrolled": true
   },
   "outputs": [
    {
     "name": "stdout",
     "output_type": "stream",
     "text": [
      "(48, 48)\n"
     ]
    }
   ],
   "source": [
    "print(a.shape)"
   ]
  },
  {
   "cell_type": "code",
   "execution_count": 10,
   "metadata": {},
   "outputs": [
    {
     "name": "stdout",
     "output_type": "stream",
     "text": [
      "[48 48 48 48 48 48 48 48 58 58 58 58 58 58 58 58 64 66 70 75 81 86 90 92\n",
      " 88 88 88 88 88 88 88 88 88 88 88 88 88 88 88 88 88 88 88 88 88 88 88 88\n",
      " 88 88 88 88 88 88 88 88 88 88 88 88 88 88 88 88 88 88 88 88 88 88 88 88\n",
      " 88 88 88 88 88 88 88 88 78 78 78 78 78 78 78 78 88 88 88 88 88 88 88 88\n",
      " 88 88 88 88 88 88 88 88 58 58 58 58 58 58 58 58 58 58 58 58 58 58 58 58\n",
      " 58 58 58 58 58 58 58 58 60 60 60 60 60 60 60 60 68 68 68 68 68 68 68 68\n",
      " 68 68 68 68 68 68 68 68 58 58 58 58 58 58 58 58 66 66 66 66 66 66 66 66\n",
      " 68 68 68 68 68 68 68 68 76 76 76 76 76 76 76 76 78 78 78 78 78 78 78 78\n",
      " 70 70 70 70 70 70 70 70 58 58 58 58 58 58 58 58 68 68 68 68 68 68 68 68\n",
      " 68 68 68 68 68 68 68 68 88 88 88 88 88 88 88 88 98 98 98 98 98 98 98 98\n",
      " 98 98 98 98 98 98 98 98 98 98 98 98 98 98 98 98 98 98 98 98 98 98 98 98\n",
      " 88 88 88 88 88 88 88 88 88 88 88 88 88 88 88 88 88 88 88 88 88 88 88 88\n",
      " 88 88 88 88 88 88 88 88 78 78 78 78 78 78 78 78 78 78 78 78 78 78 78 78\n",
      " 78 78 78 78 78 78 78 78 78 78 78 78 78 78 78 78 58 58 58 58 58 58 58 58\n",
      " 58 58 58 58 58 58 58 58 64 66 70 75 81 86 90 92 88 88 88 88 88 88 88 88\n",
      " 88 88 88 88 88 88 88 88 58 58 58 58 58 58 58 58 58 58 58 58 58 58 58 58\n",
      " 58 58 58 58 58 58 58 58 68 68 68 68 68 68 68 68 38 38 38 38 38 38 38 38\n",
      " 48 48 48 48 48 48 48 48 48 48 48 48 48 48 48 48 58 58 58 58 58 58 58 58\n",
      " 68 68 68 68 68 68 68 68 88 88 88 88 88 88 88 88 79 84 91 94 88 76 61 51\n",
      " 38 38 38 38 38 38 38 38 38 38 38 38 38 38 38 38 38 38 38 38 38 38 38 38\n",
      " 38 38 38 38 38 38 38 38 38 38 38 38 38 38 38 38 38 38 38 38 38 38 38 38\n",
      " 38 38 38 38 38 38 38 38 38 38 38 38 38 38 38 38 28 28 28 28 28 28 28 28\n",
      " 28 28 28 28 28 28 28 28 28 28 28 28 28 28 28 28]\n",
      "[ 38  68  78  90  98  98  88  78  90  30  18   8   8   8   8   8   8   8\n",
      "   8   8   8   8   8   8   8   8   8   8  18  18  18  18  50  68  68  48\n",
      "  48  58  78 100  99  58  48  58  66  68  35  38]\n",
      "[[0.05239945 0.00334251 0.03645094 0.41918874 0.18169726 0.00580149\n",
      "  0.30111957]]\n",
      "Happy\n"
     ]
    }
   ],
   "source": [
    "import cv2\n",
    "im=cv2.imread('dataset/t-min.jpeg',0)\n",
    "print(im[5])\n",
    "resized=cv2.resize(im,(48,48))\n",
    "print(resized[5])\n",
    "resized=resized.reshape(48,48,1)\n",
    "resized=tf.cast(resized,tf.float32)\n",
    "val=mod.predict(np.array([resized]))\n",
    "print(val)\n",
    "print(emotions[np.argmax(val,axis=1)[0]])"
   ]
  },
  {
   "cell_type": "code",
   "execution_count": 43,
   "metadata": {},
   "outputs": [],
   "source": [
    "a=a.reshape(48,48,1)"
   ]
  },
  {
   "cell_type": "code",
   "execution_count": 44,
   "metadata": {},
   "outputs": [
    {
     "data": {
      "text/plain": [
       "numpy.ndarray"
      ]
     },
     "execution_count": 44,
     "metadata": {},
     "output_type": "execute_result"
    }
   ],
   "source": [
    "type(val)"
   ]
  },
  {
   "cell_type": "code",
   "execution_count": 45,
   "metadata": {},
   "outputs": [
    {
     "data": {
      "text/plain": [
       "5"
      ]
     },
     "execution_count": 45,
     "metadata": {},
     "output_type": "execute_result"
    }
   ],
   "source": [
    "np.argmax(val,axis=1)[0]"
   ]
  },
  {
   "cell_type": "code",
   "execution_count": 46,
   "metadata": {},
   "outputs": [
    {
     "name": "stdout",
     "output_type": "stream",
     "text": [
      "(347, 334)\n",
      "(48, 48)\n",
      "(48, 48, 1)\n",
      "[[7.9130754e-05 4.1340142e-01 5.3735755e-02 9.0571139e-03 6.4655215e-02\n",
      "  4.2256835e-01 3.6502924e-02]]\n",
      "Surprise\n"
     ]
    }
   ],
   "source": [
    "import cv2\n",
    "im=cv2.imread('dataset/angr.PNG',0)\n",
    "print(im.shape)\n",
    "resized=cv2.resize(im,(48,48))\n",
    "print(resized.shape)\n",
    "resized=resized.reshape(48,48,1)\n",
    "print(resized.shape)\n",
    "resized=resized.astype(float)\n",
    "\n",
    "val=mod.predict(np.array([resized]))\n",
    "print(val)\n",
    "print(emotions[np.argmax(val,axis=1)[0]])"
   ]
  },
  {
   "cell_type": "code",
   "execution_count": 47,
   "metadata": {},
   "outputs": [
    {
     "data": {
      "text/plain": [
       "(48, 48, 1)"
      ]
     },
     "execution_count": 47,
     "metadata": {},
     "output_type": "execute_result"
    }
   ],
   "source": [
    "a.shape"
   ]
  },
  {
   "cell_type": "code",
   "execution_count": 48,
   "metadata": {},
   "outputs": [],
   "source": [
    "import tensorflow as tf"
   ]
  },
  {
   "cell_type": "code",
   "execution_count": 85,
   "metadata": {},
   "outputs": [],
   "source": [
    "x=tf.cast(a,tf.float32)"
   ]
  },
  {
   "cell_type": "code",
   "execution_count": 88,
   "metadata": {},
   "outputs": [],
   "source": [
    "temp=np.array([X[12].reshape(48,48,1)])"
   ]
  },
  {
   "cell_type": "code",
   "execution_count": 89,
   "metadata": {},
   "outputs": [
    {
     "data": {
      "text/plain": [
       "array([[0.09152497, 0.00468059, 0.15305777, 0.02803746, 0.5243077 ,\n",
       "        0.00477699, 0.19361447]], dtype=float32)"
      ]
     },
     "execution_count": 89,
     "metadata": {},
     "output_type": "execute_result"
    }
   ],
   "source": [
    "mod.predict(temp)"
   ]
  },
  {
   "cell_type": "code",
   "execution_count": null,
   "metadata": {},
   "outputs": [],
   "source": []
  },
  {
   "cell_type": "code",
   "execution_count": null,
   "metadata": {},
   "outputs": [],
   "source": []
  },
  {
   "cell_type": "code",
   "execution_count": null,
   "metadata": {},
   "outputs": [],
   "source": []
  },
  {
   "cell_type": "code",
   "execution_count": null,
   "metadata": {},
   "outputs": [],
   "source": []
  }
 ],
 "metadata": {
  "kernelspec": {
   "display_name": "Python 3",
   "language": "python",
   "name": "python3"
  },
  "language_info": {
   "codemirror_mode": {
    "name": "ipython",
    "version": 3
   },
   "file_extension": ".py",
   "mimetype": "text/x-python",
   "name": "python",
   "nbconvert_exporter": "python",
   "pygments_lexer": "ipython3",
   "version": "3.7.3"
  }
 },
 "nbformat": 4,
 "nbformat_minor": 2
}
